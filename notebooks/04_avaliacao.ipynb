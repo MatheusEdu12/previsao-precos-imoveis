{
 "cells": [
  {
   "cell_type": "markdown",
   "id": "7ddbf0fb",
   "metadata": {},
   "source": [
    "# Avaliação de Modelos – Housing Califórnia\n",
    "\n",
    "Avaliação da performance dos modelos treinados na previsão do preço médio das casas usando o conjunto de teste."
   ]
  },
  {
   "cell_type": "code",
   "execution_count": 174,
   "id": "de8f4bab",
   "metadata": {},
   "outputs": [],
   "source": [
    "import joblib\n",
    "import numpy as np\n",
    "import pandas as pd"
   ]
  },
  {
   "cell_type": "markdown",
   "id": "3a6d8e71",
   "metadata": {},
   "source": [
    "## 1. Carregamento dos Modelos\n",
    "Importação dos modelos finais treinados (`Linear Regression`, `Decision Tree`, `Random Forest`) salvos anteriormente."
   ]
  },
  {
   "cell_type": "code",
   "execution_count": 175,
   "id": "dc9092cb",
   "metadata": {},
   "outputs": [],
   "source": [
    "lin_reg_model = joblib.load(\"models/linear_regression_model.pkl\")\n",
    "tree_model = joblib.load(\"models/decision_tree_model.pkl\")\n",
    "rf_model = joblib.load(\"models/random_forest_model.pkl\")"
   ]
  },
  {
   "cell_type": "markdown",
   "id": "26be288c",
   "metadata": {},
   "source": [
    "## 2. Carregamento do Conjunto de Teste\n",
    "Importação do conjunto de teste transformado (`X_test`) e do alvo (`y_test`) processados nos notebooks anteriores."
   ]
  },
  {
   "cell_type": "code",
   "execution_count": 176,
   "id": "5ce517e4",
   "metadata": {},
   "outputs": [],
   "source": [
    "X_test = np.load(\"data/processed/X_test.npy\")\n",
    "y_test = pd.read_csv(\"data/processed/y_test.csv\").values.ravel()"
   ]
  },
  {
   "cell_type": "markdown",
   "id": "4cd57a06",
   "metadata": {},
   "source": [
    "## 3. Previsão com os Modelos\n",
    "Geração das previsões para o conjunto de teste com cada modelo."
   ]
  },
  {
   "cell_type": "code",
   "execution_count": 177,
   "id": "4e4ae771",
   "metadata": {},
   "outputs": [],
   "source": [
    "y_pred_lin = lin_reg_model.predict(X_test)\n",
    "y_pred_tree = tree_model.predict(X_test)\n",
    "y_pred_rf = rf_model.predict(X_test)"
   ]
  },
  {
   "cell_type": "markdown",
   "id": "c5c14707",
   "metadata": {},
   "source": [
    "## 4. Cálculo do RMSE\n",
    "Cálculo do RMSE para comparar a performance dos modelos no conjunto de teste."
   ]
  },
  {
   "cell_type": "code",
   "execution_count": 178,
   "id": "c9c49ab4",
   "metadata": {},
   "outputs": [],
   "source": [
    "from sklearn.metrics import mean_squared_error\n",
    "import numpy as np\n",
    "\n",
    "def rmse(y_true, y_pred):\n",
    "    return np.sqrt(mean_squared_error(y_true, y_pred))\n"
   ]
  },
  {
   "cell_type": "markdown",
   "id": "0a9f695f",
   "metadata": {},
   "source": [
    "## 5. Resultados\n",
    "Exibição dos valores de RMSE obtidos para cada modelo:\n",
    "- `Linear Regression`\n",
    "- `Decision Tree`\n",
    "- `Random Forest`"
   ]
  },
  {
   "cell_type": "code",
   "execution_count": 179,
   "id": "4c506be4",
   "metadata": {},
   "outputs": [
    {
     "name": "stdout",
     "output_type": "stream",
     "text": [
      "RMSE Linear Regression: 66913.4419132093\n",
      "RMSE Decision Tree: 58772.103556837006\n",
      "RMSE Random Forest: 47873.26095812988\n"
     ]
    }
   ],
   "source": [
    "print(\"RMSE Linear Regression:\", rmse(y_test, y_pred_lin))\n",
    "print(\"RMSE Decision Tree:\", rmse(y_test, y_pred_tree))\n",
    "print(\"RMSE Random Forest:\", rmse(y_test, y_pred_rf))"
   ]
  }
 ],
 "metadata": {
  "kernelspec": {
   "display_name": "Python 3 (ipykernel)",
   "language": "python",
   "name": "python3"
  }
 },
 "nbformat": 4,
 "nbformat_minor": 5
}
