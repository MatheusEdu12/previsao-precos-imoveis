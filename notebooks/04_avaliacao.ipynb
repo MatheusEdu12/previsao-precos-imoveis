{
 "cells": [
  {
   "cell_type": "code",
   "execution_count": 134,
   "id": "de8f4bab",
   "metadata": {},
   "outputs": [],
   "source": [
    "import joblib\n",
    "import numpy as np\n",
    "import pandas as pd\n"
   ]
  },
  {
   "cell_type": "code",
   "execution_count": 135,
   "id": "dc9092cb",
   "metadata": {},
   "outputs": [],
   "source": [
    "lin_reg_model = joblib.load(\"models/linear_regression_model.pkl\")\n",
    "tree_model = joblib.load(\"models/decision_tree_model.pkl\")\n",
    "rf_model = joblib.load(\"models/random_forest_model.pkl\")"
   ]
  },
  {
   "cell_type": "code",
   "execution_count": 136,
   "id": "5ce517e4",
   "metadata": {},
   "outputs": [],
   "source": [
    "X_test = np.load(\"data/processed/X_test.npy\")\n",
    "y_test = pd.read_csv(\"data/processed/y_test.csv\").values.ravel()"
   ]
  },
  {
   "cell_type": "code",
   "execution_count": 137,
   "id": "4e4ae771",
   "metadata": {},
   "outputs": [],
   "source": [
    "y_pred_lin = lin_reg_model.predict(X_test)\n",
    "y_pred_tree = tree_model.predict(X_test)\n",
    "y_pred_rf = rf_model.predict(X_test)"
   ]
  },
  {
   "cell_type": "code",
   "execution_count": 138,
   "id": "c9c49ab4",
   "metadata": {},
   "outputs": [
    {
     "name": "stdout",
     "output_type": "stream",
     "text": [
      "RMSE Linear Regression: 66913.4419132093\n",
      "RMSE Decision Tree: 58772.103556837006\n",
      "RMSE Random Forest: 47873.26095812988\n"
     ]
    }
   ],
   "source": [
    "from sklearn.metrics import mean_squared_error\n",
    "import numpy as np\n",
    "\n",
    "def rmse(y_true, y_pred):\n",
    "    return np.sqrt(mean_squared_error(y_true, y_pred))\n",
    "\n",
    "print(\"RMSE Linear Regression:\", rmse(y_test, y_pred_lin))\n",
    "print(\"RMSE Decision Tree:\", rmse(y_test, y_pred_tree))\n",
    "print(\"RMSE Random Forest:\", rmse(y_test, y_pred_rf))\n"
   ]
  }
 ],
 "metadata": {
  "kernelspec": {
   "display_name": "Python 3 (ipykernel)",
   "language": "python",
   "name": "python3"
  },
  "language_info": {
   "codemirror_mode": {
    "name": "ipython",
    "version": 3
   },
   "file_extension": ".py",
   "mimetype": "text/x-python",
   "name": "python",
   "nbconvert_exporter": "python",
   "pygments_lexer": "ipython3",
   "version": "3.11.13"
  }
 },
 "nbformat": 4,
 "nbformat_minor": 5
}
