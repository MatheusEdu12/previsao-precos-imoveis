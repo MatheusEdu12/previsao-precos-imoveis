{
 "cells": [
  {
   "cell_type": "code",
   "execution_count": 126,
   "id": "455aea63",
   "metadata": {},
   "outputs": [],
   "source": [
    "import pandas as pd\n",
    "from sklearn.linear_model import LinearRegression\n",
    "from sklearn.tree import DecisionTreeRegressor\n",
    "from sklearn.ensemble import RandomForestRegressor, GradientBoostingRegressor\n",
    "from sklearn.model_selection import GridSearchCV, cross_val_score\n",
    "from sklearn.metrics import mean_squared_error\n",
    "import numpy as np\n"
   ]
  },
  {
   "cell_type": "code",
   "execution_count": 127,
   "id": "e31194fe",
   "metadata": {},
   "outputs": [],
   "source": [
    "X_train = np.load(\"data/processed/X_train.npy\")\n",
    "y_train = pd.read_csv(\"data/processed/y_train.csv\").values.ravel() "
   ]
  },
  {
   "cell_type": "code",
   "execution_count": 128,
   "id": "b4e7bcf2",
   "metadata": {},
   "outputs": [],
   "source": [
    "def rmse_cv(model, X, y):\n",
    "    scores = cross_val_score(model, X, y, scoring=\"neg_mean_squared_error\", cv=5)\n",
    "    rmse_scores = np.sqrt(-scores)\n",
    "    return rmse_scores.mean()\n"
   ]
  },
  {
   "cell_type": "code",
   "execution_count": 129,
   "id": "ebb9d457",
   "metadata": {},
   "outputs": [
    {
     "name": "stdout",
     "output_type": "stream",
     "text": [
      "RMSE Regressão Linear: 69065.59069601324\n"
     ]
    }
   ],
   "source": [
    "lin_reg = LinearRegression()\n",
    "lin_reg.fit(X_train, y_train)\n",
    "\n",
    "rmse_lin = rmse_cv(lin_reg, X_train, y_train)\n",
    "\n",
    "print(\"RMSE Regressão Linear:\", rmse_lin)"
   ]
  },
  {
   "cell_type": "code",
   "execution_count": 130,
   "id": "dc272f91",
   "metadata": {},
   "outputs": [],
   "source": [
    "def train_model(model, param_grid, X, y, cv=5):\n",
    "    grid = GridSearchCV(\n",
    "        model, \n",
    "        param_grid,\n",
    "        cv=cv,\n",
    "        scoring='neg_mean_squared_error',\n",
    "        n_jobs=-1\n",
    "    )\n",
    "    grid.fit(X, y)\n",
    "\n",
    "    best_model = grid.best_estimator_\n",
    "    scores = cross_val_score(best_model, X, y, scoring='neg_mean_squared_error', cv=cv)\n",
    "    rmse = np.sqrt(-scores).mean()\n",
    "    \n",
    "    return best_model, rmse, grid.best_params_"
   ]
  },
  {
   "cell_type": "code",
   "execution_count": 131,
   "id": "22fa190b",
   "metadata": {},
   "outputs": [
    {
     "name": "stdout",
     "output_type": "stream",
     "text": [
      "Melhores parâmetros Decision Tree: {'max_depth': 10, 'min_samples_leaf': 4, 'min_samples_split': 10}\n",
      "RMSE Decision Tree: 60717.52245459622\n"
     ]
    }
   ],
   "source": [
    "tree = DecisionTreeRegressor(random_state=42)\n",
    "param_grid_tree = {\n",
    "    'max_depth': [5, 10, 15, None],\n",
    "    'min_samples_split': [2, 5, 10],\n",
    "    'min_samples_leaf': [1, 2, 4]\n",
    "}\n",
    "\n",
    "best_tree, rmse_tree, best_params_tree = train_model(tree, param_grid_tree, X_train, y_train)\n",
    "print(\"Melhores parâmetros Decision Tree:\", best_params_tree)\n",
    "print(\"RMSE Decision Tree:\", rmse_tree)"
   ]
  },
  {
   "cell_type": "code",
   "execution_count": 132,
   "id": "59c70426",
   "metadata": {},
   "outputs": [
    {
     "name": "stdout",
     "output_type": "stream",
     "text": [
      "Melhores parâmetros Random Forest: {'max_features': 8, 'n_estimators': 30}\n",
      "RMSE Random Forest: 49893.91429940498\n"
     ]
    }
   ],
   "source": [
    "\n",
    "rf = RandomForestRegressor(random_state=42)\n",
    "\n",
    "param_grid_rf = [\n",
    "    {'n_estimators': [3, 10, 30], 'max_features': [2, 4, 6, 8]},\n",
    "    {'bootstrap': [False], 'n_estimators': [3, 10], 'max_features': [2, 3, 4]},\n",
    "]\n",
    "\n",
    "best_rf, rmse_rf, best_params_rf = train_model(rf, param_grid_rf, X_train, y_train)\n",
    "print(\"Melhores parâmetros Random Forest:\", best_params_rf)\n",
    "print(\"RMSE Random Forest:\", rmse_rf)"
   ]
  },
  {
   "cell_type": "code",
   "execution_count": 133,
   "id": "0a56e276",
   "metadata": {},
   "outputs": [
    {
     "data": {
      "text/plain": [
       "['models/linear_regression_model.pkl']"
      ]
     },
     "execution_count": 133,
     "metadata": {},
     "output_type": "execute_result"
    }
   ],
   "source": [
    "import joblib\n",
    "import os\n",
    "\n",
    "os.makedirs(\"models\", exist_ok=True)\n",
    "\n",
    "joblib.dump(best_tree, \"models/decision_tree_model.pkl\")\n",
    "joblib.dump(best_rf, \"models/random_forest_model.pkl\")\n",
    "joblib.dump(lin_reg, \"models/linear_regression_model.pkl\")"
   ]
  }
 ],
 "metadata": {
  "kernelspec": {
   "display_name": "Python 3 (ipykernel)",
   "language": "python",
   "name": "python3"
  },
  "language_info": {
   "codemirror_mode": {
    "name": "ipython",
    "version": 3
   },
   "file_extension": ".py",
   "mimetype": "text/x-python",
   "name": "python",
   "nbconvert_exporter": "python",
   "pygments_lexer": "ipython3",
   "version": "3.11.13"
  }
 },
 "nbformat": 4,
 "nbformat_minor": 5
}
