{
 "cells": [
  {
   "cell_type": "code",
   "execution_count": 117,
   "id": "9f77ca43",
   "metadata": {},
   "outputs": [],
   "source": [
    "import pandas as pd"
   ]
  },
  {
   "cell_type": "code",
   "execution_count": 118,
   "id": "4a5f5b8a",
   "metadata": {},
   "outputs": [],
   "source": [
    "train_set = pd.read_csv(\"data/processed/train_set.csv\")\n",
    "test_set = pd.read_csv(\"data/processed/test_set.csv\")"
   ]
  },
  {
   "cell_type": "code",
   "execution_count": 119,
   "id": "404efc78",
   "metadata": {},
   "outputs": [],
   "source": [
    "X_train = train_set.drop(\"median_house_value\", axis=1)\n",
    "y_train = train_set[\"median_house_value\"].copy()\n",
    "\n",
    "X_test = test_set.drop(\"median_house_value\", axis=1)\n",
    "y_test = test_set[\"median_house_value\"].copy()\n",
    "\n"
   ]
  },
  {
   "cell_type": "code",
   "execution_count": 120,
   "id": "35beb90c",
   "metadata": {},
   "outputs": [],
   "source": [
    "num_attribs = X_train.drop(\"ocean_proximity\", axis=1).columns\n",
    "cat_attribs = [\"ocean_proximity\"]"
   ]
  },
  {
   "cell_type": "code",
   "execution_count": 121,
   "id": "77d00cc8",
   "metadata": {},
   "outputs": [],
   "source": [
    "from sklearn.base import BaseEstimator, TransformerMixin\n",
    "import numpy as np\n",
    "\n",
    "col_names = [\"total_rooms\", \"total_bedrooms\", \"population\", \"households\"]\n",
    "rooms_ix, bedrooms_ix, population_ix, households_ix = [\n",
    "    X_train.columns.get_loc(c) for c in col_names]\n",
    "\n",
    "class CombinedAttributesAdder(BaseEstimator, TransformerMixin):\n",
    "    def __init__(self, add_bedrooms_per_room=True): \n",
    "        self.add_bedrooms_per_room = add_bedrooms_per_room\n",
    "    def fit(self, X, y=None):\n",
    "        return self\n",
    "    def transform(self, X):\n",
    "        rooms_per_household = X[:, rooms_ix] / X[:, households_ix]\n",
    "        population_per_household = X[:, population_ix] / X[:, households_ix]\n",
    "        if self.add_bedrooms_per_room:\n",
    "            bedrooms_per_room = X[:, bedrooms_ix] / X[:, rooms_ix]\n",
    "            return np.c_[X, rooms_per_household, population_per_household,\n",
    "                         bedrooms_per_room]\n",
    "        else:\n",
    "            return np.c_[X, rooms_per_household, population_per_household]\n"
   ]
  },
  {
   "cell_type": "code",
   "execution_count": 122,
   "id": "0ff4274e",
   "metadata": {},
   "outputs": [],
   "source": [
    "from sklearn.pipeline import Pipeline\n",
    "from sklearn.impute import SimpleImputer\n",
    "from sklearn.preprocessing import StandardScaler\n",
    "\n",
    "num_pipeline = Pipeline([\n",
    "    ('imputer', SimpleImputer(strategy=\"median\")),\n",
    "    ('attribs_adder', CombinedAttributesAdder()),\n",
    "    ('std_scaler', StandardScaler()),\n",
    "])"
   ]
  },
  {
   "cell_type": "code",
   "execution_count": 123,
   "id": "c94edb6d",
   "metadata": {},
   "outputs": [],
   "source": [
    "from sklearn.compose import ColumnTransformer\n",
    "from sklearn.preprocessing import OneHotEncoder\n",
    "\n",
    "full_pipeline = ColumnTransformer([\n",
    "    (\"num\", num_pipeline, num_attribs),\n",
    "    (\"cat\", OneHotEncoder(), cat_attribs),\n",
    "])\n"
   ]
  },
  {
   "cell_type": "code",
   "execution_count": 124,
   "id": "05e1e67e",
   "metadata": {},
   "outputs": [],
   "source": [
    "X_train_set = full_pipeline.fit_transform(X_train)\n",
    "X_test_set = full_pipeline.transform(X_test)"
   ]
  },
  {
   "cell_type": "code",
   "execution_count": 125,
   "id": "7395e07f",
   "metadata": {},
   "outputs": [],
   "source": [
    "\n",
    "np.save(\"data/processed/X_train.npy\", X_train_set)\n",
    "y_train.to_csv(\"data/processed/y_train.csv\", index=False)\n",
    "\n",
    "np.save(\"data/processed/X_test.npy\", X_test_set)\n",
    "y_test.to_csv(\"data/processed/y_test.csv\", index=False)\n"
   ]
  }
 ],
 "metadata": {
  "kernelspec": {
   "display_name": "Python 3 (ipykernel)",
   "language": "python",
   "name": "python3"
  },
  "language_info": {
   "codemirror_mode": {
    "name": "ipython",
    "version": 3
   },
   "file_extension": ".py",
   "mimetype": "text/x-python",
   "name": "python",
   "nbconvert_exporter": "python",
   "pygments_lexer": "ipython3",
   "version": "3.11.13"
  }
 },
 "nbformat": 4,
 "nbformat_minor": 5
}
